{
 "cells": [
  {
   "cell_type": "code",
   "execution_count": 1,
   "id": "77ebf5c6",
   "metadata": {},
   "outputs": [],
   "source": [
    "import io\n",
    "import json\n",
    "import boto3\n",
    "from matplotlib import pyplot\n",
    "from matplotlib.legend_handler import HandlerTuple\n",
    "from matplotlib import cm\n",
    "\n",
    "NS_TO_MS = 1000000"
   ]
  },
  {
   "cell_type": "code",
   "execution_count": 50,
   "id": "eca3d1e9",
   "metadata": {},
   "outputs": [],
   "source": [
    "\n",
    "start = 1_000_000_000/NS_TO_MS  #int\n",
    "stop = [x/NS_TO_MS for x in [2_000_000_000,1_980_000_000]]  #list\n",
    "runtime_fetchImage = 100_000_000/NS_TO_MS\n",
    "\n",
    "\n",
    "runtime_recognizeFaces = [x/NS_TO_MS for x in [200_000_000,180_000_000,190_000_000,195_000_000,185_000_000]]  #list\n",
    "start_recognizeFaces = runtime_fetchImage\n",
    "\n",
    "runtime_cropSortFaces = [x/NS_TO_MS for x in [380_000_000,390_000_000,395_000_000,385_000_000,400_000_000]]  #list\n",
    "start_cropSortFaces = max([x+start_recognizeFaces for x in runtime_recognizeFaces])\n",
    "\n",
    "runtime_createCollage = [x/NS_TO_MS for x in [90_000_000,100_000_000]]  #list\n",
    "start_createCollage = max([x+start_cropSortFaces for x in runtime_cropSortFaces])\n",
    "\n",
    "runtime_list = [runtime_recognizeFaces,runtime_cropSortFaces,runtime_createCollage]\n",
    "start_list = [start_recognizeFaces, start_cropSortFaces, start_createCollage]\n",
    "runtime_labels = [\"Total Runtime\",\n",
    "                  \"Runtime fetchImage\",\n",
    "                  \"Runtime recognizeFaces\",\n",
    "                  \"Runtime cropSortFaces\",\n",
    "                  \"Runtime createCollage\"]\n",
    "\n",
    "total_runtime = max(stop) - start"
   ]
  },
  {
   "cell_type": "code",
   "execution_count": null,
   "id": "c57c775d",
   "metadata": {},
   "outputs": [],
   "source": []
  },
  {
   "cell_type": "code",
   "execution_count": 55,
   "id": "e99a5597",
   "metadata": {},
   "outputs": [
    {
     "name": "stdout",
     "output_type": "stream",
     "text": [
      "0.2 0.5\n",
      "0.2 0.5\n",
      "0.5 0.35\n"
     ]
    },
    {
     "data": {
      "text/plain": [
       "Text(0, 0.5, 'Runtime in Milliseconds')"
      ]
     },
     "execution_count": 55,
     "metadata": {},
     "output_type": "execute_result"
    },
    {
     "data": {
      "image/png": "[encoded data removed]",
      "text/plain": [
       "<Figure size 432x288 with 1 Axes>"
      ]
     },
     "metadata": {
      "needs_background": "light"
     },
     "output_type": "display_data"
    }
   ],
   "source": [
    "plt, ax = pyplot.subplots(1,1)\n",
    "X = 1\n",
    "t = ax.bar(X-0.1, total_runtime, color=\"grey\",width=1)\n",
    "rf = ax.bar(X- 0.1, runtime_fetchImage, color=\"blue\",width=1)\n",
    "\n",
    "bottom = runtime_fetchImage\n",
    "rts = [t, rf]\n",
    "for i, l in enumerate(runtime_list):\n",
    "    width = 1/len(l)\n",
    "    offset = len(l)/2*width if len(l)%2 > 0 else len(l)/2*width - 0.15\n",
    "    print(width,offset)\n",
    "    color = cm.hsv(i / 16*len(runtime_list))\n",
    "\n",
    "    temp_tup = ()\n",
    "    for j, runtime in enumerate(l):\n",
    "        tmp = ax.bar(X- offset + j * width, runtime, width=width, bottom=start_list[i], linewidth=30.0, color=color,  align=\"center\")\n",
    "        temp_tup += (tmp,)\n",
    "    rts.append(temp_tup)\n",
    "    bottom += max(l)\n",
    "\n",
    "ax.legend(rts, runtime_labels, handler_map={tuple: HandlerTuple(ndivide=None)})\n",
    "ax.set_ylabel(\"Runtime in Milliseconds\")"
   ]
  },
  {
   "cell_type": "code",
   "execution_count": null,
   "id": "355ed9d5",
   "metadata": {},
   "outputs": [],
   "source": [
    "plt.show()"
   ]
  }
 ],
 "metadata": {
  "kernelspec": {
   "display_name": "Python 3 (ipykernel)",
   "language": "python",
   "name": "python3"
  },
  "language_info": {
   "codemirror_mode": {
    "name": "ipython",
    "version": 3
   },
   "file_extension": ".py",
   "mimetype": "text/x-python",
   "name": "python",
   "nbconvert_exporter": "python",
   "pygments_lexer": "ipython3",
   "version": "3.10.2"
  }
 },
 "nbformat": 4,
 "nbformat_minor": 5
}
